{
 "cells": [
  {
   "cell_type": "markdown",
   "metadata": {},
   "source": [
    "# LeetCode 225"
   ]
  },
  {
   "cell_type": "code",
   "execution_count": null,
   "metadata": {},
   "outputs": [],
   "source": [
    "class MyStack(object):\n",
    "    def __init__(self):\n",
    "        self.q1 = deque()\n",
    "        self.q2 = deque()\n",
    "\n",
    "    def push(self, x):\n",
    "        self.q2.append(x)\n",
    "        while self.q1:\n",
    "            self.q2.append(self.q1.popleft())\n",
    "        self.q1, self.q2 = self.q2, self.q1\n",
    "\n",
    "    def pop(self):\n",
    "        return self.q1.popleft()\n",
    "\n",
    "    def top(self):\n",
    "        return self.q1[0]\n",
    "\n",
    "    def empty(self):\n",
    "        return len(self.q1) == 0"
   ]
  },
  {
   "cell_type": "markdown",
   "id": "8ef5c0ee",
   "metadata": {},
   "source": [
    "# LeetCode 232"
   ]
  },
  {
   "cell_type": "code",
   "execution_count": null,
   "id": "3ffdd6af",
   "metadata": {},
   "outputs": [],
   "source": [
    "class MyQueue(object):\n",
    "\n",
    "    def __init__(self):\n",
    "        self.stack = []\n",
    "\n",
    "    def push(self, x):\n",
    "        self.stack.append(x)\n",
    "\n",
    "    def pop(self):\n",
    "        return self.stack.pop(0)\n",
    "\n",
    "    def peek(self):\n",
    "        return self.stack[0]\n",
    "\n",
    "    def empty(self):\n",
    "        return len(self.stack) == 0"
   ]
  },
  {
   "cell_type": "markdown",
   "id": "dbf4a868",
   "metadata": {},
   "source": [
    "# 연습문제 01"
   ]
  },
  {
   "cell_type": "code",
   "execution_count": null,
   "id": "b44578bb",
   "metadata": {},
   "outputs": [],
   "source": [
    "class ListQueue:\n",
    "    def __init__(self):\n",
    "        self.__queue = []\n",
    "\n",
    "    def enqueue(self, item):\n",
    "        self.__queue.insert(0, item)\n",
    "\n",
    "    def dequeue(self):\n",
    "        return self.__queue.pop()\n",
    "\n",
    "    def front(self):\n",
    "        if self.__queue.is_empty():\n",
    "            return None\n",
    "        else:\n",
    "            return self.__queue[len(self.__queue) - 1]\n",
    "\n",
    "    def is_empty(self) -> bool:\n",
    "        return not bool(self.__queue)\n",
    "\n",
    "    def dequeue_all(self):\n",
    "        self.__queue.clear()"
   ]
  },
  {
   "cell_type": "markdown",
   "id": "57efd671",
   "metadata": {},
   "source": [
    "# 연습문제 02"
   ]
  },
  {
   "cell_type": "code",
   "execution_count": null,
   "id": "5afa97fe",
   "metadata": {},
   "outputs": [],
   "source": [
    "def isPalindrome(A) -> bool:\n",
    "    s = ListStack(); q = ListQueue()\n",
    "    for i in range(len(A)):\n",
    "        s.push(A[i]); q.enqueue(A[i])\n",
    "    while (not q.isEmpty()) and s.pop() == q.dequeue():\n",
    "        {}\n",
    "    if q.isEmpty():\n",
    "        return True\n",
    "    else: \n",
    "        return False\n",
    "    \n",
    "def main(): \n",
    "    sentence = input(\"Input string: \")\n",
    "    t = isPalindrome(sentence)\n",
    "    print(sentence, \"is Palindrome?:\",t)\n",
    "\n",
    "if __name__ == \"__main__\" :\n",
    "    main()"
   ]
  },
  {
   "cell_type": "markdown",
   "id": "d0ccbd72",
   "metadata": {},
   "source": [
    "# 연습문제 03"
   ]
  },
  {
   "cell_type": "code",
   "execution_count": null,
   "id": "2bd223a3",
   "metadata": {},
   "outputs": [],
   "source": [
    "def copy_linked_queue(a: LinkedQueue, b : LinkedQueue) :\n",
    "    b.dequeAll()\n",
    "    temp_queue = LinkedQueue()\n",
    "    while not a.isEmpty():\n",
    "        temp_queue.enqueue(a.dequeue())\n",
    "    while not temp_queue.isEmpty():\n",
    "        a.enqueue(temp_queue.front())\n",
    "        b.enqueue(tmep_queue.dequeue())"
   ]
  },
  {
   "cell_type": "markdown",
   "id": "78ea6972",
   "metadata": {},
   "source": [
    "# 연습문제 04"
   ]
  },
  {
   "cell_type": "code",
   "execution_count": null,
   "id": "fa5b93b5",
   "metadata": {},
   "outputs": [],
   "source": [
    "def __init__(self):\n",
    "    self.q1 = deque()\n",
    "    self.q2 = deque()\n",
    "\n",
    "def push(self, x):\n",
    "    self.q2.append(x)\n",
    "    while self.q1:\n",
    "        self.q2.append(self.q1.popleft())\n",
    "    self.q1, self.q2 = self.q2, self.q1\n",
    "\n",
    "def pop(self):\n",
    "    return self.q1.popleft()"
   ]
  },
  {
   "cell_type": "markdown",
   "id": "a6780334",
   "metadata": {},
   "source": [
    "# 연습문제 05"
   ]
  },
  {
   "cell_type": "code",
   "execution_count": null,
   "id": "84ded38c",
   "metadata": {},
   "outputs": [],
   "source": [
    "def __init__(self):\n",
    "    self.stack = []\n",
    "\n",
    "def enqueue(self, x):\n",
    "    self.stack.append(x)\n",
    "\n",
    "def dequeue(self):\n",
    "    return self.stack.pop(0)"
   ]
  },
  {
   "cell_type": "markdown",
   "id": "167acd0e",
   "metadata": {},
   "source": [
    "# 연습문제 06"
   ]
  },
  {
   "cell_type": "code",
   "execution_count": null,
   "id": "11e7caf6",
   "metadata": {},
   "outputs": [],
   "source": [
    "# n의 값에 상관 없이 원형큐이기에 각각 세타(1) 만큼 수행시간이 된다. "
   ]
  },
  {
   "cell_type": "markdown",
   "id": "604955a6",
   "metadata": {},
   "source": [
    "# 연습문제 07"
   ]
  },
  {
   "cell_type": "code",
   "execution_count": null,
   "id": "39d023bc",
   "metadata": {},
   "outputs": [],
   "source": [
    "# enqueue()는 뒤로 들어가기 때문에 세타(n)만큼, \n",
    "# dequeue()는 앞의 것부터 제거되기 때문에 세타(1)만큼이 수행시간이 된다. "
   ]
  },
  {
   "cell_type": "markdown",
   "id": "54e660bc",
   "metadata": {},
   "source": [
    "# 연습문제 08"
   ]
  },
  {
   "cell_type": "code",
   "execution_count": null,
   "id": "2a6052f4",
   "metadata": {},
   "outputs": [],
   "source": [
    "class ListDeque:\n",
    "    def __init__(self):\n",
    "        self.__queue = []\n",
    "\n",
    "    def enqueue(self, item):\n",
    "        self.__queue.append(item)\n",
    "\n",
    "    def dequeue(self):\n",
    "        return self.__queue.pop(0)\n",
    "\n",
    "    def push(self, item):\n",
    "        self.__queue.insert(0, item)\n",
    "\n",
    "    def pop(self):\n",
    "        return self.__queue.pop(len(self.__queue) - 1)\n",
    "\n",
    "    def front(self):\n",
    "        if self.is_empty():\n",
    "            return None\n",
    "        else:\n",
    "            return self.__queue[0]\n",
    "\n",
    "    def rear(self):\n",
    "        if self.is_empty():\n",
    "            return None\n",
    "        else:\n",
    "            return self.__queue[len(self.__queue) - 1]\n",
    "\n",
    "    def is_empty(self):\n",
    "        return not bool(self.__queue)\n",
    "\n",
    "    def deque_all(self):\n",
    "        self.__queue.clear()\n",
    "\n",
    "    def print_deque(self):\n",
    "        print(\"Dequeue from front:\", end = ' ')\n",
    "        for index in range(len(self.__queue)):\n",
    "            print(self.__queue[index], end = ' ')\n",
    "        print()"
   ]
  }
 ],
 "metadata": {
  "kernelspec": {
   "display_name": "Python 3",
   "language": "python",
   "name": "python3"
  },
  "language_info": {
   "name": "python",
   "version": "3.8"
  }
 },
 "nbformat": 4,
 "nbformat_minor": 5
}
