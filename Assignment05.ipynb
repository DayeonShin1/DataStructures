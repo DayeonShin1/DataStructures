{
 "cells": [
  {
   "cell_type": "markdown",
   "id": "35b51a12",
   "metadata": {},
   "source": [
    "# Assignment05-3\n",
    "#### .csv 파일이 정상적으로 저장되지 않아 과제 진행이 불가"
   ]
  },
  {
   "cell_type": "code",
   "execution_count": null,
   "id": "ed2c5fe1",
   "metadata": {},
   "outputs": [
    {
     "ename": "ValueError",
     "evalue": "invalid literal for int() with base 10: '******18'",
     "output_type": "error",
     "traceback": [
      "\u001b[31m---------------------------------------------------------------------------\u001b[39m",
      "\u001b[31mValueError\u001b[39m                                Traceback (most recent call last)",
      "\u001b[36mCell\u001b[39m\u001b[36m \u001b[39m\u001b[32mIn[10]\u001b[39m\u001b[32m, line 10\u001b[39m\n\u001b[32m      7\u001b[39m \u001b[38;5;28mnext\u001b[39m(reader)\n\u001b[32m      9\u001b[39m \u001b[38;5;28;01mfor\u001b[39;00m row \u001b[38;5;129;01min\u001b[39;00m reader:\n\u001b[32m---> \u001b[39m\u001b[32m10\u001b[39m     score = \u001b[38;5;28;43mint\u001b[39;49m\u001b[43m(\u001b[49m\u001b[43mrow\u001b[49m\u001b[43m[\u001b[49m\u001b[32;43m0\u001b[39;49m\u001b[43m]\u001b[49m\u001b[43m)\u001b[49m\n\u001b[32m     11\u001b[39m     name = row[\u001b[32m1\u001b[39m]\n\u001b[32m     12\u001b[39m     heapq.heappush(heap, (score, name))\n",
      "\u001b[31mValueError\u001b[39m: invalid literal for int() with base 10: '******18'"
     ]
    }
   ],
   "source": [
    "import csv\n",
    "import heapq\n",
    "\n",
    "heap=[]\n",
    "with open(r'C:\\Users\\신다연\\Desktop\\DS_Birthdaydata - 시트1.csv', newline='', encoding='utf-8') as csvfile:\n",
    "    reader = csv.reader(csvfile)\n",
    "    next(reader)\n",
    "\n",
    "    for row in reader:\n",
    "        score = int(row[0])\n",
    "        name = row[1]\n",
    "        heapq.heappush(heap, (score, name))\n",
    "\n",
    "    for i in range (10) :\n",
    "        print(-heapq.heappop(row))"
   ]
  },
  {
   "cell_type": "code",
   "execution_count": null,
   "id": "f0ab0ddd",
   "metadata": {},
   "outputs": [],
   "source": []
  }
 ],
 "metadata": {
  "kernelspec": {
   "display_name": ".venv",
   "language": "python",
   "name": "python3"
  },
  "language_info": {
   "codemirror_mode": {
    "name": "ipython",
    "version": 3
   },
   "file_extension": ".py",
   "mimetype": "text/x-python",
   "name": "python",
   "nbconvert_exporter": "python",
   "pygments_lexer": "ipython3",
   "version": "3.13.2"
  }
 },
 "nbformat": 4,
 "nbformat_minor": 5
}
